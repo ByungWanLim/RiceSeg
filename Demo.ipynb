{
 "cells": [
  {
   "cell_type": "markdown",
   "id": "966ed73b-a252-47e8-8710-a24c8d4a1963",
   "metadata": {},
   "source": [
    "# Demo"
   ]
  },
  {
   "cell_type": "code",
   "execution_count": null,
   "id": "91caadc9",
   "metadata": {},
   "outputs": [],
   "source": []
  },
  {
   "cell_type": "code",
   "execution_count": null,
   "id": "3e902f73-5b7f-42b8-871a-f01b06b55fe2",
   "metadata": {},
   "outputs": [],
   "source": [
    "import os\n",
    "import cv2\n",
    "import tqdm\n",
    "import torch\n",
    "import numpy as np\n",
    "from PIL import Image"
   ]
  },
  {
   "cell_type": "code",
   "execution_count": null,
   "id": "2873a695-846d-49ca-a731-cb4fa0277aa9",
   "metadata": {},
   "outputs": [
    {
     "name": "stdout",
     "output_type": "stream",
     "text": [
      "hello\n"
     ]
    }
   ],
   "source": [
    "print('hello')"
   ]
  },
  {
   "cell_type": "code",
   "execution_count": null,
   "id": "90de1f9b-03a5-4c1c-b5b4-f8851adaf6bf",
   "metadata": {},
   "outputs": [],
   "source": []
  },
  {
   "cell_type": "code",
   "execution_count": null,
   "id": "0f8c243f",
   "metadata": {},
   "outputs": [],
   "source": [
    "img =np.array(Image.open('/rice/rice_unzipped/org/R20220801A10G/R20220801A10G0114.tif'))"
   ]
  },
  {
   "cell_type": "code",
   "execution_count": null,
   "id": "0dff4cb6",
   "metadata": {},
   "outputs": [],
   "source": []
  },
  {
   "cell_type": "code",
   "execution_count": null,
   "id": "ce5bfb31",
   "metadata": {},
   "outputs": [
    {
     "data": {
      "text/plain": [
       "(array([ 2786, 96732, 26109, 35253, 17266,  5857,  1049,    80,    47,\n",
       "           59]),\n",
       " array([0.02119164, 0.03905234, 0.05691305, 0.07477375, 0.09263445,\n",
       "        0.11049516, 0.12835586, 0.14621657, 0.16407728, 0.18193798,\n",
       "        0.19979869], dtype=float32))"
      ]
     },
     "execution_count": 27,
     "metadata": {},
     "output_type": "execute_result"
    }
   ],
   "source": [
    "np.histogram(img[img>0])"
   ]
  },
  {
   "cell_type": "code",
   "execution_count": null,
   "id": "66219b64",
   "metadata": {},
   "outputs": [
    {
     "name": "stdout",
     "output_type": "stream",
     "text": [
      "-10000.0\n"
     ]
    }
   ],
   "source": [
    "imarr = np.array(img)\n",
    "print(imarr.min())"
   ]
  },
  {
   "cell_type": "code",
   "execution_count": null,
   "id": "254bc0ec",
   "metadata": {},
   "outputs": [
    {
     "name": "stderr",
     "output_type": "stream",
     "text": [
      "100%|██████████| 1229/1229 [00:50<00:00, 24.56it/s]\n"
     ]
    }
   ],
   "source": [
    "data_path='/rice/data'\n",
    "channels=[\"G\", \"N\", \"E\"]\n",
    "img_dir = os.path.join(data_path, \"img\")\n",
    "count = 0\n",
    "all_count = 0\n",
    "for file in tqdm.tqdm(sorted(os.listdir(os.path.join(img_dir, channels[0])))):\n",
    "    for channel in channels:\n",
    "        all_count +=1\n",
    "        cur_channel = np.array(\n",
    "                Image.open(os.path.join(img_dir, channel, file))\n",
    "            )\n",
    "        if np.sum(cur_channel < 0) > 0:\n",
    "            count+=1\n"
   ]
  },
  {
   "cell_type": "code",
   "execution_count": null,
   "id": "61b3313d-c01e-4c64-aabb-01e213feadcf",
   "metadata": {},
   "outputs": [
    {
     "name": "stdout",
     "output_type": "stream",
     "text": [
      "447 3687\n"
     ]
    }
   ],
   "source": [
    "print(count, all_count)"
   ]
  },
  {
   "cell_type": "code",
   "execution_count": null,
   "id": "38b05af3",
   "metadata": {},
   "outputs": [],
   "source": []
  }
 ],
 "metadata": {
  "kernelspec": {
   "display_name": "Python 3 (ipykernel)",
   "language": "python",
   "name": "python3"
  },
  "language_info": {
   "codemirror_mode": {
    "name": "ipython",
    "version": 3
   },
   "file_extension": ".py",
   "mimetype": "text/x-python",
   "name": "python",
   "nbconvert_exporter": "python",
   "pygments_lexer": "ipython3",
   "version": "3.11.4"
  },
  "vscode": {
   "interpreter": {
    "hash": "d4d1e4263499bec80672ea0156c357c1ee493ec2b1c70f0acce89fc37c4a6abe"
   }
  }
 },
 "nbformat": 4,
 "nbformat_minor": 5
}
