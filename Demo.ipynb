{
 "cells": [
  {
   "cell_type": "markdown",
   "id": "966ed73b-a252-47e8-8710-a24c8d4a1963",
   "metadata": {},
   "source": [
    "# Demo"
   ]
  },
  {
   "cell_type": "code",
   "execution_count": 1,
   "id": "3e902f73-5b7f-42b8-871a-f01b06b55fe2",
   "metadata": {},
   "outputs": [],
   "source": [
    "import torch"
   ]
  },
  {
   "cell_type": "code",
   "execution_count": 2,
   "id": "2873a695-846d-49ca-a731-cb4fa0277aa9",
   "metadata": {},
   "outputs": [
    {
     "name": "stdout",
     "output_type": "stream",
     "text": [
      "hello\n"
     ]
    }
   ],
   "source": [
    "print('hello')"
   ]
  },
  {
   "cell_type": "code",
   "execution_count": 3,
   "id": "b689fd14-aa0d-433a-bf59-6cf473901657",
   "metadata": {},
   "outputs": [],
   "source": [
    "import os"
   ]
  },
  {
   "cell_type": "code",
   "execution_count": 7,
   "id": "2fbd4c33-89e3-463c-b872-87b6ea432f8e",
   "metadata": {},
   "outputs": [],
   "source": [
    "os.rename(os.path.join('../rice_unzipped', sorted(os.listdir('../rice_unzipped'))[1]), os.path.join('../rice_unzipped', 'org'))"
   ]
  },
  {
   "cell_type": "code",
   "execution_count": null,
   "id": "90de1f9b-03a5-4c1c-b5b4-f8851adaf6bf",
   "metadata": {},
   "outputs": [],
   "source": []
  }
 ],
 "metadata": {
  "kernelspec": {
   "display_name": "Python 3 (ipykernel)",
   "language": "python",
   "name": "python3"
  },
  "language_info": {
   "codemirror_mode": {
    "name": "ipython",
    "version": 3
   },
   "file_extension": ".py",
   "mimetype": "text/x-python",
   "name": "python",
   "nbconvert_exporter": "python",
   "pygments_lexer": "ipython3",
   "version": "3.8.5"
  }
 },
 "nbformat": 4,
 "nbformat_minor": 5
}
